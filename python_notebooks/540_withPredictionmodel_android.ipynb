{
 "cells": [
  {
   "cell_type": "code",
   "execution_count": 13,
   "metadata": {},
   "outputs": [],
   "source": [
    "import re\n",
    "from google_play_scraper import Sort, reviews\n",
    "import pandas as pd\n",
    "from itertools import chain\n",
    "import json"
   ]
  },
  {
   "cell_type": "code",
   "execution_count": 14,
   "metadata": {},
   "outputs": [],
   "source": [
    "url = 'https://play.google.com/store/apps/details?id=com.herzick.houseparty&hl=en_US&showAllReviews=true&showAllReviews=true'\n",
    "p = re.compile(\".+\\\\bdetails\\\\?id=([^&]+)\")\n",
    "result = p.search(url)\n",
    "\n",
    "appid = result.group(1)"
   ]
  },
  {
   "cell_type": "code",
   "execution_count": 15,
   "metadata": {},
   "outputs": [],
   "source": [
    "#test\n",
    "result, continuation_token = reviews(\n",
    "    'com.herzick.houseparty',\n",
    "    lang='en', # defaults to 'en'\n",
    "    country='us', # defaults to 'us'\n",
    "    sort=Sort.MOST_RELEVANT, # defaults to Sort.MOST_RELEVANT\n",
    "    count=3, # defaults to 100\n",
    "    filter_score_with=5 # defaults to None(means all score)\n",
    "    )\n",
    "\n"
   ]
  },
  {
   "cell_type": "code",
   "execution_count": 16,
   "metadata": {},
   "outputs": [],
   "source": [
    "def get_review(url_string):\n",
    "    p = re.compile(\".+\\\\bdetails\\\\?id=([^&]+)\")\n",
    "    result = p.search(url_string)\n",
    "    appid = result.group(1)\n",
    "    \n",
    "    result, continuation_token = reviews(\n",
    "    appid,\n",
    "    lang='en', # defaults to 'en'\n",
    "    country='us', # defaults to 'us'\n",
    "    sort=Sort.MOST_RELEVANT, # defaults to Sort.MOST_RELEVANT\n",
    "    count=100, # defaults to 100\n",
    "    #filter_score_with=5 # defaults to None(means all score)\n",
    "    )\n",
    "    \n",
    "    #dataframe for app reviews\n",
    "    '''\n",
    "    df_app = pd.DataFrame(result)\n",
    "    \n",
    "    #drop stuff you don't need\n",
    "    del df_app['userImage']\n",
    "    del df_app['reviewCreatedVersion']\n",
    "    del df_app['repliedAt']\n",
    "    del df_app['replyContent']\n",
    "    del df_app['userName']\n",
    "    df_app.columns = ['at', 'content', 'score', 'thumbsUpCount']\n",
    "    \n",
    "    print(df_app)\n",
    "    return df_app\n",
    "    '''\n",
    "    \n",
    "    for element in result:\n",
    "        element['appId'] = appid\n",
    "        \n",
    "    return result\n",
    "    \n",
    "    \n",
    "    \n",
    "    "
   ]
  },
  {
   "cell_type": "code",
   "execution_count": 5,
   "metadata": {},
   "outputs": [
    {
     "name": "stdout",
     "output_type": "stream",
     "text": [
      "79 apps left\n",
      "78 apps left\n",
      "77 apps left\n",
      "76 apps left\n",
      "75 apps left\n",
      "74 apps left\n",
      "73 apps left\n",
      "72 apps left\n",
      "71 apps left\n",
      "70 apps left\n",
      "69 apps left\n",
      "68 apps left\n",
      "67 apps left\n",
      "66 apps left\n",
      "65 apps left\n",
      "64 apps left\n",
      "63 apps left\n",
      "62 apps left\n",
      "61 apps left\n",
      "60 apps left\n",
      "59 apps left\n",
      "58 apps left\n",
      "57 apps left\n",
      "56 apps left\n",
      "55 apps left\n",
      "54 apps left\n",
      "53 apps left\n",
      "52 apps left\n",
      "51 apps left\n",
      "50 apps left\n",
      "49 apps left\n",
      "48 apps left\n",
      "47 apps left\n",
      "46 apps left\n",
      "45 apps left\n",
      "44 apps left\n",
      "43 apps left\n",
      "42 apps left\n",
      "41 apps left\n",
      "40 apps left\n",
      "39 apps left\n",
      "38 apps left\n",
      "37 apps left\n",
      "36 apps left\n",
      "35 apps left\n",
      "34 apps left\n",
      "33 apps left\n",
      "32 apps left\n",
      "31 apps left\n",
      "30 apps left\n",
      "29 apps left\n",
      "28 apps left\n",
      "27 apps left\n",
      "26 apps left\n",
      "25 apps left\n",
      "24 apps left\n",
      "23 apps left\n",
      "22 apps left\n",
      "21 apps left\n",
      "20 apps left\n",
      "19 apps left\n",
      "18 apps left\n",
      "17 apps left\n",
      "16 apps left\n",
      "15 apps left\n",
      "14 apps left\n",
      "13 apps left\n",
      "12 apps left\n",
      "11 apps left\n",
      "10 apps left\n",
      "9 apps left\n",
      "8 apps left\n",
      "7 apps left\n",
      "6 apps left\n",
      "5 apps left\n",
      "4 apps left\n",
      "3 apps left\n",
      "2 apps left\n",
      "1 apps left\n"
     ]
    }
   ],
   "source": [
    "#opening the appsid file\n",
    "#extract appids from urls\n",
    "\n",
    "try:\n",
    "    with open('appsid', 'r') as aid:\n",
    "        urls = aid.readline().split(',')\n",
    "\n",
    "except IOError:\n",
    "    print('Error while opening App\\'s ID file. make sure that\\\n",
    "    you have a file named \"appsid\" in the irectory of this\\\n",
    "    scrip and you have right permissions to access file. \\nExiting...')\n",
    "    \n",
    "length = len(urls)\n",
    "#master dataframe\n",
    "columns = ['at', 'content', 'score', 'thumbsUpCount']\n",
    "\n",
    "app_data_list = []\n",
    "\n",
    "\n",
    "while length:\n",
    "    try:\n",
    "        for url in urls:\n",
    "            app_data = get_review(url.strip('\\\"'))\n",
    "            app_data_list.append(app_data)\n",
    "            print(str(length) + ' apps left')\n",
    "            length -= 1\n",
    "    except IOError as e:\n",
    "        print('Operation Failed Error...')\n",
    "        pass\n",
    "    \n",
    "\n",
    "\n"
   ]
  },
  {
   "cell_type": "code",
   "execution_count": 17,
   "metadata": {},
   "outputs": [
    {
     "data": {
      "text/html": [
       "<div>\n",
       "<style scoped>\n",
       "    .dataframe tbody tr th:only-of-type {\n",
       "        vertical-align: middle;\n",
       "    }\n",
       "\n",
       "    .dataframe tbody tr th {\n",
       "        vertical-align: top;\n",
       "    }\n",
       "\n",
       "    .dataframe thead th {\n",
       "        text-align: right;\n",
       "    }\n",
       "</style>\n",
       "<table border=\"1\" class=\"dataframe\">\n",
       "  <thead>\n",
       "    <tr style=\"text-align: right;\">\n",
       "      <th></th>\n",
       "      <th>userName</th>\n",
       "      <th>userImage</th>\n",
       "      <th>content</th>\n",
       "      <th>score</th>\n",
       "      <th>thumbsUpCount</th>\n",
       "      <th>reviewCreatedVersion</th>\n",
       "      <th>at</th>\n",
       "      <th>replyContent</th>\n",
       "      <th>repliedAt</th>\n",
       "      <th>appId</th>\n",
       "    </tr>\n",
       "  </thead>\n",
       "  <tbody>\n",
       "    <tr>\n",
       "      <td>0</td>\n",
       "      <td>charlotte mcdonald</td>\n",
       "      <td>https://lh3.googleusercontent.com/a-/AOh14Gg2b...</td>\n",
       "      <td>It's a good app, when it works! I've had House...</td>\n",
       "      <td>3</td>\n",
       "      <td>375</td>\n",
       "      <td>1.41.1</td>\n",
       "      <td>2020-04-24 01:23:50</td>\n",
       "      <td>None</td>\n",
       "      <td>NaT</td>\n",
       "      <td>com.herzick.houseparty</td>\n",
       "    </tr>\n",
       "    <tr>\n",
       "      <td>1</td>\n",
       "      <td>Susie Parker</td>\n",
       "      <td>https://lh3.googleusercontent.com/a-/AOh14GhtB...</td>\n",
       "      <td>I just finished a chat with two friends who li...</td>\n",
       "      <td>3</td>\n",
       "      <td>22</td>\n",
       "      <td>1.41.1</td>\n",
       "      <td>2020-05-02 13:18:48</td>\n",
       "      <td>None</td>\n",
       "      <td>NaT</td>\n",
       "      <td>com.herzick.houseparty</td>\n",
       "    </tr>\n",
       "    <tr>\n",
       "      <td>2</td>\n",
       "      <td>Tommy Pham</td>\n",
       "      <td>https://lh3.googleusercontent.com/a-/AOh14GgRY...</td>\n",
       "      <td>This app is pretty smooth when it comes to vid...</td>\n",
       "      <td>3</td>\n",
       "      <td>348</td>\n",
       "      <td>1.41.1</td>\n",
       "      <td>2020-04-20 19:31:08</td>\n",
       "      <td>None</td>\n",
       "      <td>NaT</td>\n",
       "      <td>com.herzick.houseparty</td>\n",
       "    </tr>\n",
       "    <tr>\n",
       "      <td>3</td>\n",
       "      <td>Shaunesse John</td>\n",
       "      <td>https://lh3.googleusercontent.com/a-/AOh14GjBB...</td>\n",
       "      <td>I like this app but now it is giving a lot of ...</td>\n",
       "      <td>3</td>\n",
       "      <td>11</td>\n",
       "      <td>1.41.1</td>\n",
       "      <td>2020-05-01 22:51:58</td>\n",
       "      <td>None</td>\n",
       "      <td>NaT</td>\n",
       "      <td>com.herzick.houseparty</td>\n",
       "    </tr>\n",
       "    <tr>\n",
       "      <td>4</td>\n",
       "      <td>Andrew</td>\n",
       "      <td>https://lh3.googleusercontent.com/a-/AOh14GjIo...</td>\n",
       "      <td>Great. Very reminiscent of Skype on computers ...</td>\n",
       "      <td>4</td>\n",
       "      <td>70</td>\n",
       "      <td>1.40.1</td>\n",
       "      <td>2020-04-16 20:31:19</td>\n",
       "      <td>None</td>\n",
       "      <td>NaT</td>\n",
       "      <td>com.herzick.houseparty</td>\n",
       "    </tr>\n",
       "    <tr>\n",
       "      <td>...</td>\n",
       "      <td>...</td>\n",
       "      <td>...</td>\n",
       "      <td>...</td>\n",
       "      <td>...</td>\n",
       "      <td>...</td>\n",
       "      <td>...</td>\n",
       "      <td>...</td>\n",
       "      <td>...</td>\n",
       "      <td>...</td>\n",
       "      <td>...</td>\n",
       "    </tr>\n",
       "    <tr>\n",
       "      <td>7865</td>\n",
       "      <td>Jonathan Mason</td>\n",
       "      <td>https://lh3.googleusercontent.com/-3KHpjJcFBSk...</td>\n",
       "      <td>Annoying! The camera and user interface are gr...</td>\n",
       "      <td>3</td>\n",
       "      <td>2</td>\n",
       "      <td>2.14.1_27065</td>\n",
       "      <td>2020-04-07 15:49:03</td>\n",
       "      <td>None</td>\n",
       "      <td>NaT</td>\n",
       "      <td>com.arlo.app</td>\n",
       "    </tr>\n",
       "    <tr>\n",
       "      <td>7866</td>\n",
       "      <td>Ruth Sprague</td>\n",
       "      <td>https://lh3.googleusercontent.com/-8hc3xwLmpRk...</td>\n",
       "      <td>I have the Pro2. The lag time is slow and its ...</td>\n",
       "      <td>4</td>\n",
       "      <td>3</td>\n",
       "      <td>2.14.1_27065</td>\n",
       "      <td>2020-04-09 07:57:26</td>\n",
       "      <td>None</td>\n",
       "      <td>NaT</td>\n",
       "      <td>com.arlo.app</td>\n",
       "    </tr>\n",
       "    <tr>\n",
       "      <td>7867</td>\n",
       "      <td>R Han</td>\n",
       "      <td>https://lh3.googleusercontent.com/a-/AOh14Ggsu...</td>\n",
       "      <td>The app is ok but the arlo system is horrible....</td>\n",
       "      <td>1</td>\n",
       "      <td>5</td>\n",
       "      <td>2.14.1_27065</td>\n",
       "      <td>2020-04-10 08:46:19</td>\n",
       "      <td>None</td>\n",
       "      <td>NaT</td>\n",
       "      <td>com.arlo.app</td>\n",
       "    </tr>\n",
       "    <tr>\n",
       "      <td>7868</td>\n",
       "      <td>James Zahn</td>\n",
       "      <td>https://lh3.googleusercontent.com/a-/AOh14GgRs...</td>\n",
       "      <td>They was very good when I first bought them. N...</td>\n",
       "      <td>2</td>\n",
       "      <td>3</td>\n",
       "      <td>2.14.1_27065</td>\n",
       "      <td>2020-04-11 18:04:15</td>\n",
       "      <td>None</td>\n",
       "      <td>NaT</td>\n",
       "      <td>com.arlo.app</td>\n",
       "    </tr>\n",
       "    <tr>\n",
       "      <td>7869</td>\n",
       "      <td>Dustin Gerlach</td>\n",
       "      <td>https://lh3.googleusercontent.com/a-/AOh14Ghjh...</td>\n",
       "      <td>Three months into ownership, the motion detect...</td>\n",
       "      <td>2</td>\n",
       "      <td>5</td>\n",
       "      <td>2.15_27085</td>\n",
       "      <td>2020-04-13 05:10:55</td>\n",
       "      <td>None</td>\n",
       "      <td>NaT</td>\n",
       "      <td>com.arlo.app</td>\n",
       "    </tr>\n",
       "  </tbody>\n",
       "</table>\n",
       "<p>7870 rows × 10 columns</p>\n",
       "</div>"
      ],
      "text/plain": [
       "                userName                                          userImage  \\\n",
       "0     charlotte mcdonald  https://lh3.googleusercontent.com/a-/AOh14Gg2b...   \n",
       "1           Susie Parker  https://lh3.googleusercontent.com/a-/AOh14GhtB...   \n",
       "2             Tommy Pham  https://lh3.googleusercontent.com/a-/AOh14GgRY...   \n",
       "3         Shaunesse John  https://lh3.googleusercontent.com/a-/AOh14GjBB...   \n",
       "4                 Andrew  https://lh3.googleusercontent.com/a-/AOh14GjIo...   \n",
       "...                  ...                                                ...   \n",
       "7865      Jonathan Mason  https://lh3.googleusercontent.com/-3KHpjJcFBSk...   \n",
       "7866        Ruth Sprague  https://lh3.googleusercontent.com/-8hc3xwLmpRk...   \n",
       "7867               R Han  https://lh3.googleusercontent.com/a-/AOh14Ggsu...   \n",
       "7868          James Zahn  https://lh3.googleusercontent.com/a-/AOh14GgRs...   \n",
       "7869      Dustin Gerlach  https://lh3.googleusercontent.com/a-/AOh14Ghjh...   \n",
       "\n",
       "                                                content  score  thumbsUpCount  \\\n",
       "0     It's a good app, when it works! I've had House...      3            375   \n",
       "1     I just finished a chat with two friends who li...      3             22   \n",
       "2     This app is pretty smooth when it comes to vid...      3            348   \n",
       "3     I like this app but now it is giving a lot of ...      3             11   \n",
       "4     Great. Very reminiscent of Skype on computers ...      4             70   \n",
       "...                                                 ...    ...            ...   \n",
       "7865  Annoying! The camera and user interface are gr...      3              2   \n",
       "7866  I have the Pro2. The lag time is slow and its ...      4              3   \n",
       "7867  The app is ok but the arlo system is horrible....      1              5   \n",
       "7868  They was very good when I first bought them. N...      2              3   \n",
       "7869  Three months into ownership, the motion detect...      2              5   \n",
       "\n",
       "     reviewCreatedVersion                  at replyContent repliedAt  \\\n",
       "0                  1.41.1 2020-04-24 01:23:50         None       NaT   \n",
       "1                  1.41.1 2020-05-02 13:18:48         None       NaT   \n",
       "2                  1.41.1 2020-04-20 19:31:08         None       NaT   \n",
       "3                  1.41.1 2020-05-01 22:51:58         None       NaT   \n",
       "4                  1.40.1 2020-04-16 20:31:19         None       NaT   \n",
       "...                   ...                 ...          ...       ...   \n",
       "7865         2.14.1_27065 2020-04-07 15:49:03         None       NaT   \n",
       "7866         2.14.1_27065 2020-04-09 07:57:26         None       NaT   \n",
       "7867         2.14.1_27065 2020-04-10 08:46:19         None       NaT   \n",
       "7868         2.14.1_27065 2020-04-11 18:04:15         None       NaT   \n",
       "7869           2.15_27085 2020-04-13 05:10:55         None       NaT   \n",
       "\n",
       "                       appId  \n",
       "0     com.herzick.houseparty  \n",
       "1     com.herzick.houseparty  \n",
       "2     com.herzick.houseparty  \n",
       "3     com.herzick.houseparty  \n",
       "4     com.herzick.houseparty  \n",
       "...                      ...  \n",
       "7865            com.arlo.app  \n",
       "7866            com.arlo.app  \n",
       "7867            com.arlo.app  \n",
       "7868            com.arlo.app  \n",
       "7869            com.arlo.app  \n",
       "\n",
       "[7870 rows x 10 columns]"
      ]
     },
     "metadata": {},
     "output_type": "display_data"
    }
   ],
   "source": [
    "df = pd.DataFrame(list(chain.from_iterable(app_data_list)))\n",
    "display(df)"
   ]
  },
  {
   "cell_type": "code",
   "execution_count": 18,
   "metadata": {},
   "outputs": [],
   "source": [
    "#drop stuff you don't need \n",
    "\n",
    "del df['userImage']\n",
    "del df['reviewCreatedVersion']\n",
    "del df['repliedAt']\n",
    "del df['replyContent']\n",
    "del df['userName']\n",
    "del df[\"thumbsUpCount\"]\n",
    "del df[\"at\"]"
   ]
  },
  {
   "cell_type": "code",
   "execution_count": 19,
   "metadata": {},
   "outputs": [
    {
     "data": {
      "text/html": [
       "<div>\n",
       "<style scoped>\n",
       "    .dataframe tbody tr th:only-of-type {\n",
       "        vertical-align: middle;\n",
       "    }\n",
       "\n",
       "    .dataframe tbody tr th {\n",
       "        vertical-align: top;\n",
       "    }\n",
       "\n",
       "    .dataframe thead th {\n",
       "        text-align: right;\n",
       "    }\n",
       "</style>\n",
       "<table border=\"1\" class=\"dataframe\">\n",
       "  <thead>\n",
       "    <tr style=\"text-align: right;\">\n",
       "      <th></th>\n",
       "      <th>content</th>\n",
       "      <th>score</th>\n",
       "      <th>appId</th>\n",
       "    </tr>\n",
       "  </thead>\n",
       "  <tbody>\n",
       "    <tr>\n",
       "      <td>0</td>\n",
       "      <td>It's a good app, when it works! I've had House...</td>\n",
       "      <td>3</td>\n",
       "      <td>com.herzick.houseparty</td>\n",
       "    </tr>\n",
       "    <tr>\n",
       "      <td>1</td>\n",
       "      <td>I just finished a chat with two friends who li...</td>\n",
       "      <td>3</td>\n",
       "      <td>com.herzick.houseparty</td>\n",
       "    </tr>\n",
       "    <tr>\n",
       "      <td>2</td>\n",
       "      <td>This app is pretty smooth when it comes to vid...</td>\n",
       "      <td>3</td>\n",
       "      <td>com.herzick.houseparty</td>\n",
       "    </tr>\n",
       "    <tr>\n",
       "      <td>3</td>\n",
       "      <td>I like this app but now it is giving a lot of ...</td>\n",
       "      <td>3</td>\n",
       "      <td>com.herzick.houseparty</td>\n",
       "    </tr>\n",
       "    <tr>\n",
       "      <td>4</td>\n",
       "      <td>Great. Very reminiscent of Skype on computers ...</td>\n",
       "      <td>4</td>\n",
       "      <td>com.herzick.houseparty</td>\n",
       "    </tr>\n",
       "    <tr>\n",
       "      <td>...</td>\n",
       "      <td>...</td>\n",
       "      <td>...</td>\n",
       "      <td>...</td>\n",
       "    </tr>\n",
       "    <tr>\n",
       "      <td>7865</td>\n",
       "      <td>Annoying! The camera and user interface are gr...</td>\n",
       "      <td>3</td>\n",
       "      <td>com.arlo.app</td>\n",
       "    </tr>\n",
       "    <tr>\n",
       "      <td>7866</td>\n",
       "      <td>I have the Pro2. The lag time is slow and its ...</td>\n",
       "      <td>4</td>\n",
       "      <td>com.arlo.app</td>\n",
       "    </tr>\n",
       "    <tr>\n",
       "      <td>7867</td>\n",
       "      <td>The app is ok but the arlo system is horrible....</td>\n",
       "      <td>1</td>\n",
       "      <td>com.arlo.app</td>\n",
       "    </tr>\n",
       "    <tr>\n",
       "      <td>7868</td>\n",
       "      <td>They was very good when I first bought them. N...</td>\n",
       "      <td>2</td>\n",
       "      <td>com.arlo.app</td>\n",
       "    </tr>\n",
       "    <tr>\n",
       "      <td>7869</td>\n",
       "      <td>Three months into ownership, the motion detect...</td>\n",
       "      <td>2</td>\n",
       "      <td>com.arlo.app</td>\n",
       "    </tr>\n",
       "  </tbody>\n",
       "</table>\n",
       "<p>7870 rows × 3 columns</p>\n",
       "</div>"
      ],
      "text/plain": [
       "                                                content  score  \\\n",
       "0     It's a good app, when it works! I've had House...      3   \n",
       "1     I just finished a chat with two friends who li...      3   \n",
       "2     This app is pretty smooth when it comes to vid...      3   \n",
       "3     I like this app but now it is giving a lot of ...      3   \n",
       "4     Great. Very reminiscent of Skype on computers ...      4   \n",
       "...                                                 ...    ...   \n",
       "7865  Annoying! The camera and user interface are gr...      3   \n",
       "7866  I have the Pro2. The lag time is slow and its ...      4   \n",
       "7867  The app is ok but the arlo system is horrible....      1   \n",
       "7868  They was very good when I first bought them. N...      2   \n",
       "7869  Three months into ownership, the motion detect...      2   \n",
       "\n",
       "                       appId  \n",
       "0     com.herzick.houseparty  \n",
       "1     com.herzick.houseparty  \n",
       "2     com.herzick.houseparty  \n",
       "3     com.herzick.houseparty  \n",
       "4     com.herzick.houseparty  \n",
       "...                      ...  \n",
       "7865            com.arlo.app  \n",
       "7866            com.arlo.app  \n",
       "7867            com.arlo.app  \n",
       "7868            com.arlo.app  \n",
       "7869            com.arlo.app  \n",
       "\n",
       "[7870 rows x 3 columns]"
      ]
     },
     "execution_count": 19,
     "metadata": {},
     "output_type": "execute_result"
    }
   ],
   "source": [
    "df"
   ]
  },
  {
   "cell_type": "code",
   "execution_count": 20,
   "metadata": {},
   "outputs": [
    {
     "data": {
      "text/html": [
       "<div>\n",
       "<style scoped>\n",
       "    .dataframe tbody tr th:only-of-type {\n",
       "        vertical-align: middle;\n",
       "    }\n",
       "\n",
       "    .dataframe tbody tr th {\n",
       "        vertical-align: top;\n",
       "    }\n",
       "\n",
       "    .dataframe thead th {\n",
       "        text-align: right;\n",
       "    }\n",
       "</style>\n",
       "<table border=\"1\" class=\"dataframe\">\n",
       "  <thead>\n",
       "    <tr style=\"text-align: right;\">\n",
       "      <th></th>\n",
       "      <th>content</th>\n",
       "      <th>score</th>\n",
       "      <th>appId</th>\n",
       "    </tr>\n",
       "  </thead>\n",
       "  <tbody>\n",
       "    <tr>\n",
       "      <td>0</td>\n",
       "      <td>It's a good app, when it works! I've had House...</td>\n",
       "      <td>3</td>\n",
       "      <td>com.herzick.houseparty</td>\n",
       "    </tr>\n",
       "    <tr>\n",
       "      <td>1</td>\n",
       "      <td>I just finished a chat with two friends who li...</td>\n",
       "      <td>3</td>\n",
       "      <td>com.herzick.houseparty</td>\n",
       "    </tr>\n",
       "    <tr>\n",
       "      <td>2</td>\n",
       "      <td>This app is pretty smooth when it comes to vid...</td>\n",
       "      <td>3</td>\n",
       "      <td>com.herzick.houseparty</td>\n",
       "    </tr>\n",
       "    <tr>\n",
       "      <td>3</td>\n",
       "      <td>I like this app but now it is giving a lot of ...</td>\n",
       "      <td>3</td>\n",
       "      <td>com.herzick.houseparty</td>\n",
       "    </tr>\n",
       "    <tr>\n",
       "      <td>4</td>\n",
       "      <td>Great. Very reminiscent of Skype on computers ...</td>\n",
       "      <td>4</td>\n",
       "      <td>com.herzick.houseparty</td>\n",
       "    </tr>\n",
       "  </tbody>\n",
       "</table>\n",
       "</div>"
      ],
      "text/plain": [
       "                                             content  score  \\\n",
       "0  It's a good app, when it works! I've had House...      3   \n",
       "1  I just finished a chat with two friends who li...      3   \n",
       "2  This app is pretty smooth when it comes to vid...      3   \n",
       "3  I like this app but now it is giving a lot of ...      3   \n",
       "4  Great. Very reminiscent of Skype on computers ...      4   \n",
       "\n",
       "                    appId  \n",
       "0  com.herzick.houseparty  \n",
       "1  com.herzick.houseparty  \n",
       "2  com.herzick.houseparty  \n",
       "3  com.herzick.houseparty  \n",
       "4  com.herzick.houseparty  "
      ]
     },
     "execution_count": 20,
     "metadata": {},
     "output_type": "execute_result"
    }
   ],
   "source": [
    "df.head()"
   ]
  },
  {
   "cell_type": "code",
   "execution_count": 21,
   "metadata": {},
   "outputs": [],
   "source": [
    "y = df[\"score\"]\n",
    "X = df.drop(\"score\",axis =1,inplace=False)\n"
   ]
  },
  {
   "cell_type": "code",
   "execution_count": 23,
   "metadata": {},
   "outputs": [
    {
     "name": "stdout",
     "output_type": "stream",
     "text": [
      "(6296, 3) (1574, 3)\n"
     ]
    }
   ],
   "source": [
    "from sklearn.model_selection import train_test_split\n",
    "X_train,X_test,y_train,y_test = train_test_split(X.index,y,test_size=0.2)\n",
    "df_train=pd.concat([X,y],axis=1).iloc[X_train] # return dataframe train\n",
    "df_test=pd.concat([X,y],axis=1).iloc[X_test] # return dataframe test\n",
    "print(df_train.shape, df_test.shape)"
   ]
  },
  {
   "cell_type": "code",
   "execution_count": 24,
   "metadata": {},
   "outputs": [
    {
     "data": {
      "text/html": [
       "<div>\n",
       "<style scoped>\n",
       "    .dataframe tbody tr th:only-of-type {\n",
       "        vertical-align: middle;\n",
       "    }\n",
       "\n",
       "    .dataframe tbody tr th {\n",
       "        vertical-align: top;\n",
       "    }\n",
       "\n",
       "    .dataframe thead th {\n",
       "        text-align: right;\n",
       "    }\n",
       "</style>\n",
       "<table border=\"1\" class=\"dataframe\">\n",
       "  <thead>\n",
       "    <tr style=\"text-align: right;\">\n",
       "      <th></th>\n",
       "      <th>content</th>\n",
       "      <th>appId</th>\n",
       "      <th>score</th>\n",
       "    </tr>\n",
       "  </thead>\n",
       "  <tbody>\n",
       "    <tr>\n",
       "      <td>5908</td>\n",
       "      <td>It's ok. When I access the app on my phone, I ...</td>\n",
       "      <td>com.classdojo.android</td>\n",
       "      <td>3</td>\n",
       "    </tr>\n",
       "    <tr>\n",
       "      <td>2915</td>\n",
       "      <td>It's the only coronavirus app, so make it good...</td>\n",
       "      <td>gov.cdc.general</td>\n",
       "      <td>1</td>\n",
       "    </tr>\n",
       "    <tr>\n",
       "      <td>6341</td>\n",
       "      <td>Thanks to all the guys who finally updated the...</td>\n",
       "      <td>com.piazza.android</td>\n",
       "      <td>4</td>\n",
       "    </tr>\n",
       "    <tr>\n",
       "      <td>6669</td>\n",
       "      <td>Such a great app! It helps me all the time, an...</td>\n",
       "      <td>co.brainly</td>\n",
       "      <td>5</td>\n",
       "    </tr>\n",
       "    <tr>\n",
       "      <td>1621</td>\n",
       "      <td>I like this app but there are so many annoying...</td>\n",
       "      <td>com.playgendary.creamaster</td>\n",
       "      <td>3</td>\n",
       "    </tr>\n",
       "    <tr>\n",
       "      <td>...</td>\n",
       "      <td>...</td>\n",
       "      <td>...</td>\n",
       "      <td>...</td>\n",
       "    </tr>\n",
       "    <tr>\n",
       "      <td>7106</td>\n",
       "      <td>The app used to let you \"backtrack\"( if you ac...</td>\n",
       "      <td>com.bumble.app</td>\n",
       "      <td>1</td>\n",
       "    </tr>\n",
       "    <tr>\n",
       "      <td>1724</td>\n",
       "      <td>There are free packs in the game but it looks ...</td>\n",
       "      <td>com.wb.headsup</td>\n",
       "      <td>5</td>\n",
       "    </tr>\n",
       "    <tr>\n",
       "      <td>5481</td>\n",
       "      <td>Perhaps It's one of the better app available f...</td>\n",
       "      <td>com.duolingo</td>\n",
       "      <td>2</td>\n",
       "    </tr>\n",
       "    <tr>\n",
       "      <td>4444</td>\n",
       "      <td>Rarely works, most times I select the app it h...</td>\n",
       "      <td>com.xfinity.digitalhome</td>\n",
       "      <td>2</td>\n",
       "    </tr>\n",
       "    <tr>\n",
       "      <td>3728</td>\n",
       "      <td>Haven't found a way to link my storage unit to...</td>\n",
       "      <td>com.uhaul.android.myuhaul</td>\n",
       "      <td>1</td>\n",
       "    </tr>\n",
       "  </tbody>\n",
       "</table>\n",
       "<p>1574 rows × 3 columns</p>\n",
       "</div>"
      ],
      "text/plain": [
       "                                                content  \\\n",
       "5908  It's ok. When I access the app on my phone, I ...   \n",
       "2915  It's the only coronavirus app, so make it good...   \n",
       "6341  Thanks to all the guys who finally updated the...   \n",
       "6669  Such a great app! It helps me all the time, an...   \n",
       "1621  I like this app but there are so many annoying...   \n",
       "...                                                 ...   \n",
       "7106  The app used to let you \"backtrack\"( if you ac...   \n",
       "1724  There are free packs in the game but it looks ...   \n",
       "5481  Perhaps It's one of the better app available f...   \n",
       "4444  Rarely works, most times I select the app it h...   \n",
       "3728  Haven't found a way to link my storage unit to...   \n",
       "\n",
       "                           appId  score  \n",
       "5908       com.classdojo.android      3  \n",
       "2915             gov.cdc.general      1  \n",
       "6341          com.piazza.android      4  \n",
       "6669                  co.brainly      5  \n",
       "1621  com.playgendary.creamaster      3  \n",
       "...                          ...    ...  \n",
       "7106              com.bumble.app      1  \n",
       "1724              com.wb.headsup      5  \n",
       "5481                com.duolingo      2  \n",
       "4444     com.xfinity.digitalhome      2  \n",
       "3728   com.uhaul.android.myuhaul      1  \n",
       "\n",
       "[1574 rows x 3 columns]"
      ]
     },
     "execution_count": 24,
     "metadata": {},
     "output_type": "execute_result"
    }
   ],
   "source": [
    "df_test"
   ]
  },
  {
   "cell_type": "code",
   "execution_count": 27,
   "metadata": {},
   "outputs": [],
   "source": [
    "\n",
    "from sklearn.pipeline import Pipeline\n",
    "from nltk.stem.snowball import SnowballStemmer\n",
    "from nltk.stem.porter import PorterStemmer\n",
    "from nltk.stem import WordNetLemmatizer\n",
    "from nltk import word_tokenize  \n",
    "from sklearn.feature_extraction.text import TfidfVectorizer ,TfidfTransformer,CountVectorizer\n",
    "from sklearn.decomposition import TruncatedSVD\n",
    "from sklearn.svm import SVR\n",
    "from sklearn.model_selection import GridSearchCV, KFold\n",
    "import nltk"
   ]
  },
  {
   "cell_type": "code",
   "execution_count": 28,
   "metadata": {},
   "outputs": [],
   "source": [
    "text_train=df_train[\"content\"].values\n",
    "text_test = df_test[\"content\"].values\n",
    "y_train= df_train[\"score\"].values\n",
    "\n"
   ]
  },
  {
   "cell_type": "code",
   "execution_count": 29,
   "metadata": {},
   "outputs": [
    {
     "name": "stderr",
     "output_type": "stream",
     "text": [
      "[nltk_data] Downloading package stopwords to C:\\Users\\SAITEJA-\n",
      "[nltk_data]     WORKMACHINE\\AppData\\Roaming\\nltk_data...\n",
      "[nltk_data]   Package stopwords is already up-to-date!\n",
      "[nltk_data] Downloading package wordnet to C:\\Users\\SAITEJA-\n",
      "[nltk_data]     WORKMACHINE\\AppData\\Roaming\\nltk_data...\n",
      "[nltk_data]   Package wordnet is already up-to-date!\n",
      "[nltk_data] Downloading package punkt to C:\\Users\\SAITEJA-\n",
      "[nltk_data]     WORKMACHINE\\AppData\\Roaming\\nltk_data...\n",
      "[nltk_data]   Package punkt is already up-to-date!\n"
     ]
    },
    {
     "data": {
      "text/plain": [
       "True"
      ]
     },
     "execution_count": 29,
     "metadata": {},
     "output_type": "execute_result"
    }
   ],
   "source": [
    "nltk.download('stopwords')\n",
    "nltk.download('wordnet')\n",
    "nltk.download('punkt')"
   ]
  },
  {
   "cell_type": "code",
   "execution_count": 30,
   "metadata": {},
   "outputs": [],
   "source": [
    "class LemmaTokenizer(object):\n",
    "    def __init__(self):\n",
    "        self.wnl = WordNetLemmatizer()\n",
    "    def __call__(self, doc):\n",
    "        return [self.wnl.lemmatize(t) for t in word_tokenize(doc)]"
   ]
  },
  {
   "cell_type": "code",
   "execution_count": 31,
   "metadata": {},
   "outputs": [],
   "source": [
    "stemmer = SnowballStemmer(\"english\", ignore_stopwords=True)"
   ]
  },
  {
   "cell_type": "code",
   "execution_count": 32,
   "metadata": {},
   "outputs": [],
   "source": [
    "class StemmedCountVectorizer(CountVectorizer):\n",
    "    def build_analyzer(self):\n",
    "        analyzer = super(StemmedCountVectorizer, self).build_analyzer()\n",
    "        return lambda doc: ([stemmer.stem(w) for w in analyzer(doc)])"
   ]
  },
  {
   "cell_type": "code",
   "execution_count": 33,
   "metadata": {},
   "outputs": [],
   "source": [
    "stemed_vec = StemmedCountVectorizer(min_df= 2,ngram_range=(1,2),tokenizer = LemmaTokenizer())"
   ]
  },
  {
   "cell_type": "code",
   "execution_count": 34,
   "metadata": {},
   "outputs": [],
   "source": [
    "clf = Pipeline([(\"vec\",stemed_vec),(\"tf-idf\",TfidfTransformer()),\n",
    "\t            (\"SVD\",TruncatedSVD(n_components=3000)),(\"svr\",SVR(C=10,gamma=1,verbose=1))])"
   ]
  },
  {
   "cell_type": "code",
   "execution_count": 35,
   "metadata": {},
   "outputs": [],
   "source": [
    "param_grid = {'svr__C': [0.001, 0.01, 0.1, 1, 10], 'svr__gamma': [0.001, 0.01, 0.1, 1],\n",
    "              'SVD__n_components':[1000,2000,3000,4000],'vec_ngram_range':[(1,1),(1,2),(1,3)],\n",
    "              'tfidf__use_idf': (True, False)}"
   ]
  },
  {
   "cell_type": "code",
   "execution_count": 36,
   "metadata": {},
   "outputs": [],
   "source": [
    "cv = KFold(shuffle=True)\n",
    "grid = GridSearchCV(clf, param_grid=param_grid, cv=cv, verbose=3)"
   ]
  },
  {
   "cell_type": "code",
   "execution_count": 37,
   "metadata": {},
   "outputs": [
    {
     "name": "stdout",
     "output_type": "stream",
     "text": [
      "[LibSVM]"
     ]
    },
    {
     "data": {
      "text/plain": [
       "Pipeline(memory=None,\n",
       "         steps=[('vec',\n",
       "                 StemmedCountVectorizer(analyzer='word', binary=False,\n",
       "                                        decode_error='strict',\n",
       "                                        dtype=<class 'numpy.int64'>,\n",
       "                                        encoding='utf-8', input='content',\n",
       "                                        lowercase=True, max_df=1.0,\n",
       "                                        max_features=None, min_df=2,\n",
       "                                        ngram_range=(1, 2), preprocessor=None,\n",
       "                                        stop_words=None, strip_accents=None,\n",
       "                                        token_pattern='(?u)\\\\b\\\\w\\\\w+\\\\b',\n",
       "                                        tokenizer=<__main__.Lem...\n",
       "                                        vocabulary=None)),\n",
       "                ('tf-idf',\n",
       "                 TfidfTransformer(norm='l2', smooth_idf=True,\n",
       "                                  sublinear_tf=False, use_idf=True)),\n",
       "                ('SVD',\n",
       "                 TruncatedSVD(algorithm='randomized', n_components=3000,\n",
       "                              n_iter=5, random_state=None, tol=0.0)),\n",
       "                ('svr',\n",
       "                 SVR(C=10, cache_size=200, coef0=0.0, degree=3, epsilon=0.1,\n",
       "                     gamma=1, kernel='rbf', max_iter=-1, shrinking=True,\n",
       "                     tol=0.001, verbose=1))],\n",
       "         verbose=False)"
      ]
     },
     "execution_count": 37,
     "metadata": {},
     "output_type": "execute_result"
    }
   ],
   "source": [
    "clf.fit(text_train, y_train)\n"
   ]
  },
  {
   "cell_type": "code",
   "execution_count": 38,
   "metadata": {},
   "outputs": [
    {
     "name": "stdout",
     "output_type": "stream",
     "text": [
      "[2.1804248  2.87356733 4.8967954  ... 3.45927765 2.45521534 3.23191927]\n"
     ]
    }
   ],
   "source": [
    "y_test = clf.predict(text_test)\n",
    "print(y_test)"
   ]
  },
  {
   "cell_type": "code",
   "execution_count": 39,
   "metadata": {},
   "outputs": [],
   "source": [
    "\n",
    "#Adjust the value to 1~5\n",
    "for i in range(len(y_test)):\n",
    "\tif (y_test[i]>5) : y_test[i]=5\n",
    "\tif (y_test[i]<1) : y_test[i]=1"
   ]
  },
  {
   "cell_type": "code",
   "execution_count": null,
   "metadata": {},
   "outputs": [],
   "source": [
    "#tbd storing and organizing results comparing with ios model\n",
    "#result=[]\n",
    "#for i in range(df_test.shape[0]):\n",
    "#    result.append([df_test[\"appId\"][i], y_test[i]])\n",
    "#result_df = pd.DataFrame(result)\n",
    "#result_df.to_csv(\"result_df.csv\", index = False, header = False)\n"
   ]
  },
  {
   "cell_type": "code",
   "execution_count": 40,
   "metadata": {},
   "outputs": [
    {
     "data": {
      "text/html": [
       "<div>\n",
       "<style scoped>\n",
       "    .dataframe tbody tr th:only-of-type {\n",
       "        vertical-align: middle;\n",
       "    }\n",
       "\n",
       "    .dataframe tbody tr th {\n",
       "        vertical-align: top;\n",
       "    }\n",
       "\n",
       "    .dataframe thead th {\n",
       "        text-align: right;\n",
       "    }\n",
       "</style>\n",
       "<table border=\"1\" class=\"dataframe\">\n",
       "  <thead>\n",
       "    <tr style=\"text-align: right;\">\n",
       "      <th></th>\n",
       "      <th>content</th>\n",
       "      <th>appId</th>\n",
       "      <th>score</th>\n",
       "    </tr>\n",
       "  </thead>\n",
       "  <tbody>\n",
       "    <tr>\n",
       "      <td>5908</td>\n",
       "      <td>It's ok. When I access the app on my phone, I ...</td>\n",
       "      <td>com.classdojo.android</td>\n",
       "      <td>3</td>\n",
       "    </tr>\n",
       "    <tr>\n",
       "      <td>2915</td>\n",
       "      <td>It's the only coronavirus app, so make it good...</td>\n",
       "      <td>gov.cdc.general</td>\n",
       "      <td>1</td>\n",
       "    </tr>\n",
       "    <tr>\n",
       "      <td>6341</td>\n",
       "      <td>Thanks to all the guys who finally updated the...</td>\n",
       "      <td>com.piazza.android</td>\n",
       "      <td>4</td>\n",
       "    </tr>\n",
       "    <tr>\n",
       "      <td>6669</td>\n",
       "      <td>Such a great app! It helps me all the time, an...</td>\n",
       "      <td>co.brainly</td>\n",
       "      <td>5</td>\n",
       "    </tr>\n",
       "    <tr>\n",
       "      <td>1621</td>\n",
       "      <td>I like this app but there are so many annoying...</td>\n",
       "      <td>com.playgendary.creamaster</td>\n",
       "      <td>3</td>\n",
       "    </tr>\n",
       "    <tr>\n",
       "      <td>...</td>\n",
       "      <td>...</td>\n",
       "      <td>...</td>\n",
       "      <td>...</td>\n",
       "    </tr>\n",
       "    <tr>\n",
       "      <td>7106</td>\n",
       "      <td>The app used to let you \"backtrack\"( if you ac...</td>\n",
       "      <td>com.bumble.app</td>\n",
       "      <td>1</td>\n",
       "    </tr>\n",
       "    <tr>\n",
       "      <td>1724</td>\n",
       "      <td>There are free packs in the game but it looks ...</td>\n",
       "      <td>com.wb.headsup</td>\n",
       "      <td>5</td>\n",
       "    </tr>\n",
       "    <tr>\n",
       "      <td>5481</td>\n",
       "      <td>Perhaps It's one of the better app available f...</td>\n",
       "      <td>com.duolingo</td>\n",
       "      <td>2</td>\n",
       "    </tr>\n",
       "    <tr>\n",
       "      <td>4444</td>\n",
       "      <td>Rarely works, most times I select the app it h...</td>\n",
       "      <td>com.xfinity.digitalhome</td>\n",
       "      <td>2</td>\n",
       "    </tr>\n",
       "    <tr>\n",
       "      <td>3728</td>\n",
       "      <td>Haven't found a way to link my storage unit to...</td>\n",
       "      <td>com.uhaul.android.myuhaul</td>\n",
       "      <td>1</td>\n",
       "    </tr>\n",
       "  </tbody>\n",
       "</table>\n",
       "<p>1574 rows × 3 columns</p>\n",
       "</div>"
      ],
      "text/plain": [
       "                                                content  \\\n",
       "5908  It's ok. When I access the app on my phone, I ...   \n",
       "2915  It's the only coronavirus app, so make it good...   \n",
       "6341  Thanks to all the guys who finally updated the...   \n",
       "6669  Such a great app! It helps me all the time, an...   \n",
       "1621  I like this app but there are so many annoying...   \n",
       "...                                                 ...   \n",
       "7106  The app used to let you \"backtrack\"( if you ac...   \n",
       "1724  There are free packs in the game but it looks ...   \n",
       "5481  Perhaps It's one of the better app available f...   \n",
       "4444  Rarely works, most times I select the app it h...   \n",
       "3728  Haven't found a way to link my storage unit to...   \n",
       "\n",
       "                           appId  score  \n",
       "5908       com.classdojo.android      3  \n",
       "2915             gov.cdc.general      1  \n",
       "6341          com.piazza.android      4  \n",
       "6669                  co.brainly      5  \n",
       "1621  com.playgendary.creamaster      3  \n",
       "...                          ...    ...  \n",
       "7106              com.bumble.app      1  \n",
       "1724              com.wb.headsup      5  \n",
       "5481                com.duolingo      2  \n",
       "4444     com.xfinity.digitalhome      2  \n",
       "3728   com.uhaul.android.myuhaul      1  \n",
       "\n",
       "[1574 rows x 3 columns]"
      ]
     },
     "execution_count": 40,
     "metadata": {},
     "output_type": "execute_result"
    }
   ],
   "source": [
    "df_test\n"
   ]
  },
  {
   "cell_type": "code",
   "execution_count": 41,
   "metadata": {},
   "outputs": [
    {
     "data": {
      "text/plain": [
       "numpy.ndarray"
      ]
     },
     "execution_count": 41,
     "metadata": {},
     "output_type": "execute_result"
    }
   ],
   "source": [
    "type(text_test)\n"
   ]
  },
  {
   "cell_type": "code",
   "execution_count": 46,
   "metadata": {},
   "outputs": [
    {
     "data": {
      "text/plain": [
       "array([\"It's ok. When I access the app on my phone, I can't like/comment, but can upload work. When I access it on my laptop, the reverse is true so between the two devices, I can do it all, but what a faff! Uninstalling and reinstalling the app hasn't helped.\",\n",
       "       \"It's the only coronavirus app, so make it good. Just won't load. This is dangerous!!\"],\n",
       "      dtype=object)"
      ]
     },
     "execution_count": 46,
     "metadata": {},
     "output_type": "execute_result"
    }
   ],
   "source": [
    "text_test[:2]"
   ]
  },
  {
   "cell_type": "code",
   "execution_count": 50,
   "metadata": {},
   "outputs": [
    {
     "data": {
      "text/plain": [
       "1.0"
      ]
     },
     "execution_count": 50,
     "metadata": {},
     "output_type": "execute_result"
    }
   ],
   "source": [
    "#y_test = clf.predict(text_test[:2])\n",
    "min(y_test)"
   ]
  },
  {
   "cell_type": "code",
   "execution_count": 44,
   "metadata": {},
   "outputs": [
    {
     "name": "stdout",
     "output_type": "stream",
     "text": [
      "[2.1804248  2.87356733 4.8967954  ... 3.45927765 2.45521534 3.23191927]\n"
     ]
    }
   ],
   "source": [
    "y_test = clf.predict(text_test)\n",
    "print(y_test)"
   ]
  },
  {
   "cell_type": "code",
   "execution_count": 48,
   "metadata": {},
   "outputs": [],
   "source": [
    "#always do this \n",
    "for i in range(len(y_test)):\n",
    "    if (y_test[i]>5) : y_test[i]=5\n",
    "    if (y_test[i]<1) : y_test[i]=1"
   ]
  },
  {
   "cell_type": "code",
   "execution_count": 52,
   "metadata": {},
   "outputs": [],
   "source": [
    "import math"
   ]
  },
  {
   "cell_type": "code",
   "execution_count": 67,
   "metadata": {},
   "outputs": [
    {
     "name": "stdout",
     "output_type": "stream",
     "text": [
      "3 2\n",
      "1 2\n",
      "4 4\n",
      "5 5\n",
      "3 4\n",
      "1 2\n",
      "2 1\n",
      "3 3\n",
      "2 2\n",
      "5 4\n",
      "1 2\n",
      "1 1\n",
      "1 1\n",
      "4 5\n",
      "1 2\n",
      "5 3\n",
      "5 5\n",
      "4 5\n",
      "0.4618805590851334\n"
     ]
    }
   ],
   "source": [
    "#import math\n",
    "y_testreal = df_test[\"score\"].values\n",
    "acc=0\n",
    "for i in range(len(y_testreal)):\n",
    "    if y_testreal[i]== math.floor(y_test[i]):\n",
    "        acc=acc+1\n",
    "    if i <18:\n",
    "        print(y_testreal[i], math.floor(y_test[i]))\n",
    "acc = acc/len(y_testreal)\n",
    "print(acc)"
   ]
  },
  {
   "cell_type": "code",
   "execution_count": 66,
   "metadata": {},
   "outputs": [
    {
     "name": "stdout",
     "output_type": "stream",
     "text": [
      "[3 1 4 5 3 1 2 3 2 5 1 1 1 4 1 5 5 4]\n",
      "[2.1804248  2.87356733 4.8967954  5.         4.18599408 2.44857559\n",
      " 1.72864951 3.52911661 2.04527072 4.92178709 2.19446288 1.79968822\n",
      " 1.         5.         2.73216613 3.53397908 5.         5.        ]\n"
     ]
    }
   ],
   "source": [
    "print(y_testreal[:18])\n",
    "print(y_test[:18])\n"
   ]
  },
  {
   "cell_type": "code",
   "execution_count": 68,
   "metadata": {},
   "outputs": [],
   "source": [
    "sample = \"This app has so many updates constantly and you cant even figure out how to make the camera on this app work!! And no it's not my phone, when I go into my camera everything is crystal clear but the minute I go on your app to take a picture it's nothing but blur even when you click on what you want it to focus on... Fix the app with your next update instead of making it worst\""
   ]
  },
  {
   "cell_type": "code",
   "execution_count": 73,
   "metadata": {},
   "outputs": [
    {
     "data": {
      "text/plain": [
       "1.377654125294473"
      ]
     },
     "execution_count": 73,
     "metadata": {},
     "output_type": "execute_result"
    }
   ],
   "source": [
    " (clf.predict([sample]))[0]"
   ]
  },
  {
   "cell_type": "code",
   "execution_count": null,
   "metadata": {},
   "outputs": [],
   "source": []
  },
  {
   "cell_type": "code",
   "execution_count": null,
   "metadata": {},
   "outputs": [],
   "source": []
  }
 ],
 "metadata": {
  "kernelspec": {
   "display_name": "Python 3",
   "language": "python",
   "name": "python3"
  },
  "language_info": {
   "codemirror_mode": {
    "name": "ipython",
    "version": 3
   },
   "file_extension": ".py",
   "mimetype": "text/x-python",
   "name": "python",
   "nbconvert_exporter": "python",
   "pygments_lexer": "ipython3",
   "version": "3.7.4"
  }
 },
 "nbformat": 4,
 "nbformat_minor": 2
}
