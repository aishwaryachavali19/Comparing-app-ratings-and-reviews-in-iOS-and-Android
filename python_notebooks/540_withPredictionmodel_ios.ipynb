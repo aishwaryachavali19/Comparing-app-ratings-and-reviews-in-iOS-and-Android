{
 "cells": [
  {
   "cell_type": "code",
   "execution_count": 5,
   "metadata": {},
   "outputs": [],
   "source": [
    "import pandas as pd\n",
    "from sklearn.model_selection import train_test_split\n",
    "from sklearn.pipeline import Pipeline\n",
    "from nltk.stem.snowball import SnowballStemmer\n",
    "from nltk.stem.porter import PorterStemmer\n",
    "from nltk.stem import WordNetLemmatizer\n",
    "from nltk import word_tokenize  \n",
    "from sklearn.feature_extraction.text import TfidfVectorizer ,TfidfTransformer,CountVectorizer\n",
    "from sklearn.decomposition import TruncatedSVD\n",
    "from sklearn.svm import SVR\n",
    "from sklearn.model_selection import GridSearchCV, KFold\n",
    "import nltk\n",
    "import math"
   ]
  },
  {
   "cell_type": "code",
   "execution_count": 6,
   "metadata": {},
   "outputs": [
    {
     "name": "stderr",
     "output_type": "stream",
     "text": [
      "[nltk_data] Downloading package stopwords to C:\\Users\\SAITEJA-\n",
      "[nltk_data]     WORKMACHINE\\AppData\\Roaming\\nltk_data...\n",
      "[nltk_data]   Package stopwords is already up-to-date!\n",
      "[nltk_data] Downloading package wordnet to C:\\Users\\SAITEJA-\n",
      "[nltk_data]     WORKMACHINE\\AppData\\Roaming\\nltk_data...\n",
      "[nltk_data]   Package wordnet is already up-to-date!\n",
      "[nltk_data] Downloading package punkt to C:\\Users\\SAITEJA-\n",
      "[nltk_data]     WORKMACHINE\\AppData\\Roaming\\nltk_data...\n",
      "[nltk_data]   Package punkt is already up-to-date!\n"
     ]
    },
    {
     "data": {
      "text/plain": [
       "True"
      ]
     },
     "execution_count": 6,
     "metadata": {},
     "output_type": "execute_result"
    }
   ],
   "source": [
    "nltk.download('stopwords')\n",
    "nltk.download('wordnet')\n",
    "nltk.download('punkt')"
   ]
  },
  {
   "cell_type": "code",
   "execution_count": 23,
   "metadata": {},
   "outputs": [],
   "source": [
    "df = pd.read_csv(\"ios.txt\")"
   ]
  },
  {
   "cell_type": "code",
   "execution_count": 24,
   "metadata": {},
   "outputs": [],
   "source": [
    "df[\"content\"] = df[\"title\"] +\" \" + df[\"text\"]\n"
   ]
  },
  {
   "cell_type": "code",
   "execution_count": 25,
   "metadata": {},
   "outputs": [],
   "source": [
    "del df['appid']\n",
    "del df['id']\n",
    "del df['text']\n",
    "del df['title']\n",
    "del df['url']\n",
    "del df['userUrl']\n",
    "del df[\"userName\"]\n",
    "del df[\"version\"]\n"
   ]
  },
  {
   "cell_type": "code",
   "execution_count": 26,
   "metadata": {},
   "outputs": [
    {
     "data": {
      "text/html": [
       "<div>\n",
       "<style scoped>\n",
       "    .dataframe tbody tr th:only-of-type {\n",
       "        vertical-align: middle;\n",
       "    }\n",
       "\n",
       "    .dataframe tbody tr th {\n",
       "        vertical-align: top;\n",
       "    }\n",
       "\n",
       "    .dataframe thead th {\n",
       "        text-align: right;\n",
       "    }\n",
       "</style>\n",
       "<table border=\"1\" class=\"dataframe\">\n",
       "  <thead>\n",
       "    <tr style=\"text-align: right;\">\n",
       "      <th></th>\n",
       "      <th>score</th>\n",
       "      <th>content</th>\n",
       "    </tr>\n",
       "  </thead>\n",
       "  <tbody>\n",
       "    <tr>\n",
       "      <td>0</td>\n",
       "      <td>1</td>\n",
       "      <td>Absolutely terrible I am literally writing thi...</td>\n",
       "    </tr>\n",
       "    <tr>\n",
       "      <td>1</td>\n",
       "      <td>2</td>\n",
       "      <td>Give the people what they want Soooo, no matte...</td>\n",
       "    </tr>\n",
       "    <tr>\n",
       "      <td>2</td>\n",
       "      <td>1</td>\n",
       "      <td>Please fix... Well did an update on Tuesday, &amp;...</td>\n",
       "    </tr>\n",
       "    <tr>\n",
       "      <td>3</td>\n",
       "      <td>1</td>\n",
       "      <td>New Update is Trash, Useless (iOS) The new upd...</td>\n",
       "    </tr>\n",
       "    <tr>\n",
       "      <td>4</td>\n",
       "      <td>3</td>\n",
       "      <td>Messenger may have a problem I don’t do review...</td>\n",
       "    </tr>\n",
       "    <tr>\n",
       "      <td>...</td>\n",
       "      <td>...</td>\n",
       "      <td>...</td>\n",
       "    </tr>\n",
       "    <tr>\n",
       "      <td>3896</td>\n",
       "      <td>5</td>\n",
       "      <td>Pink-a-licous While I love the app I do not en...</td>\n",
       "    </tr>\n",
       "    <tr>\n",
       "      <td>3897</td>\n",
       "      <td>3</td>\n",
       "      <td>Rating the app and clothes I’ve found the app ...</td>\n",
       "    </tr>\n",
       "    <tr>\n",
       "      <td>3898</td>\n",
       "      <td>3</td>\n",
       "      <td>Issue I shop in PINK 24/7, but everytime I att...</td>\n",
       "    </tr>\n",
       "    <tr>\n",
       "      <td>3899</td>\n",
       "      <td>3</td>\n",
       "      <td>Wishlist??? I am very confused on why it does ...</td>\n",
       "    </tr>\n",
       "    <tr>\n",
       "      <td>3900</td>\n",
       "      <td>2</td>\n",
       "      <td>love the store but horrible app it’s a great a...</td>\n",
       "    </tr>\n",
       "  </tbody>\n",
       "</table>\n",
       "<p>3901 rows × 2 columns</p>\n",
       "</div>"
      ],
      "text/plain": [
       "      score                                            content\n",
       "0         1  Absolutely terrible I am literally writing thi...\n",
       "1         2  Give the people what they want Soooo, no matte...\n",
       "2         1  Please fix... Well did an update on Tuesday, &...\n",
       "3         1  New Update is Trash, Useless (iOS) The new upd...\n",
       "4         3  Messenger may have a problem I don’t do review...\n",
       "...     ...                                                ...\n",
       "3896      5  Pink-a-licous While I love the app I do not en...\n",
       "3897      3  Rating the app and clothes I’ve found the app ...\n",
       "3898      3  Issue I shop in PINK 24/7, but everytime I att...\n",
       "3899      3  Wishlist??? I am very confused on why it does ...\n",
       "3900      2  love the store but horrible app it’s a great a...\n",
       "\n",
       "[3901 rows x 2 columns]"
      ]
     },
     "execution_count": 26,
     "metadata": {},
     "output_type": "execute_result"
    }
   ],
   "source": [
    "df"
   ]
  },
  {
   "cell_type": "code",
   "execution_count": 27,
   "metadata": {},
   "outputs": [],
   "source": [
    "y = df[\"score\"]\n",
    "X = df.drop(\"score\",axis =1,inplace=False)\n"
   ]
  },
  {
   "cell_type": "code",
   "execution_count": 28,
   "metadata": {},
   "outputs": [
    {
     "name": "stdout",
     "output_type": "stream",
     "text": [
      "(3120, 2) (781, 2)\n"
     ]
    }
   ],
   "source": [
    "X_train,X_test,y_train,y_test = train_test_split(X.index,y,test_size=0.2)\n",
    "df_train=pd.concat([X,y],axis=1).iloc[X_train] # return dataframe train\n",
    "df_test=pd.concat([X,y],axis=1).iloc[X_test] # return dataframe test\n",
    "print(df_train.shape, df_test.shape)"
   ]
  },
  {
   "cell_type": "code",
   "execution_count": 29,
   "metadata": {},
   "outputs": [
    {
     "data": {
      "text/html": [
       "<div>\n",
       "<style scoped>\n",
       "    .dataframe tbody tr th:only-of-type {\n",
       "        vertical-align: middle;\n",
       "    }\n",
       "\n",
       "    .dataframe tbody tr th {\n",
       "        vertical-align: top;\n",
       "    }\n",
       "\n",
       "    .dataframe thead th {\n",
       "        text-align: right;\n",
       "    }\n",
       "</style>\n",
       "<table border=\"1\" class=\"dataframe\">\n",
       "  <thead>\n",
       "    <tr style=\"text-align: right;\">\n",
       "      <th></th>\n",
       "      <th>content</th>\n",
       "      <th>score</th>\n",
       "    </tr>\n",
       "  </thead>\n",
       "  <tbody>\n",
       "    <tr>\n",
       "      <td>2513</td>\n",
       "      <td>Meh... This game is very satisfying and addict...</td>\n",
       "      <td>2</td>\n",
       "    </tr>\n",
       "    <tr>\n",
       "      <td>2709</td>\n",
       "      <td>Waste of money I am not a fan of fitness apps....</td>\n",
       "      <td>1</td>\n",
       "    </tr>\n",
       "    <tr>\n",
       "      <td>3288</td>\n",
       "      <td>Pls offer better iPad support! Overall great a...</td>\n",
       "      <td>5</td>\n",
       "    </tr>\n",
       "    <tr>\n",
       "      <td>2803</td>\n",
       "      <td>Lyft pink pass Please no one should fall for t...</td>\n",
       "      <td>2</td>\n",
       "    </tr>\n",
       "    <tr>\n",
       "      <td>582</td>\n",
       "      <td>Good but The app is good but I find it a littl...</td>\n",
       "      <td>4</td>\n",
       "    </tr>\n",
       "    <tr>\n",
       "      <td>...</td>\n",
       "      <td>...</td>\n",
       "      <td>...</td>\n",
       "    </tr>\n",
       "    <tr>\n",
       "      <td>35</td>\n",
       "      <td>Message Requests I have had no problem with me...</td>\n",
       "      <td>1</td>\n",
       "    </tr>\n",
       "    <tr>\n",
       "      <td>3450</td>\n",
       "      <td>Childish Business for the Modern Era, pt. 1 Gi...</td>\n",
       "      <td>2</td>\n",
       "    </tr>\n",
       "    <tr>\n",
       "      <td>1640</td>\n",
       "      <td>Terrible app U-Haul’s app is garbage. When it ...</td>\n",
       "      <td>1</td>\n",
       "    </tr>\n",
       "    <tr>\n",
       "      <td>3647</td>\n",
       "      <td>It’s ok for iOS, but much better for the deskt...</td>\n",
       "      <td>2</td>\n",
       "    </tr>\n",
       "    <tr>\n",
       "      <td>1196</td>\n",
       "      <td>Beware! This game may seems fun at first until...</td>\n",
       "      <td>1</td>\n",
       "    </tr>\n",
       "  </tbody>\n",
       "</table>\n",
       "<p>781 rows × 2 columns</p>\n",
       "</div>"
      ],
      "text/plain": [
       "                                                content  score\n",
       "2513  Meh... This game is very satisfying and addict...      2\n",
       "2709  Waste of money I am not a fan of fitness apps....      1\n",
       "3288  Pls offer better iPad support! Overall great a...      5\n",
       "2803  Lyft pink pass Please no one should fall for t...      2\n",
       "582   Good but The app is good but I find it a littl...      4\n",
       "...                                                 ...    ...\n",
       "35    Message Requests I have had no problem with me...      1\n",
       "3450  Childish Business for the Modern Era, pt. 1 Gi...      2\n",
       "1640  Terrible app U-Haul’s app is garbage. When it ...      1\n",
       "3647  It’s ok for iOS, but much better for the deskt...      2\n",
       "1196  Beware! This game may seems fun at first until...      1\n",
       "\n",
       "[781 rows x 2 columns]"
      ]
     },
     "execution_count": 29,
     "metadata": {},
     "output_type": "execute_result"
    }
   ],
   "source": [
    "df_test"
   ]
  },
  {
   "cell_type": "code",
   "execution_count": 30,
   "metadata": {},
   "outputs": [],
   "source": [
    "text_train=df_train[\"content\"].values\n",
    "text_test = df_test[\"content\"].values\n",
    "y_train= df_train[\"score\"].values\n",
    "y_test = df_test[\"score\"].values"
   ]
  },
  {
   "cell_type": "code",
   "execution_count": 38,
   "metadata": {},
   "outputs": [],
   "source": [
    "class LemmaTokenizer(object):\n",
    "    def __init__(self):\n",
    "        self.wnl = WordNetLemmatizer()\n",
    "    def __call__(self, doc):\n",
    "        return [self.wnl.lemmatize(t) for t in word_tokenize(doc)]"
   ]
  },
  {
   "cell_type": "code",
   "execution_count": 39,
   "metadata": {},
   "outputs": [],
   "source": [
    "stemmer = SnowballStemmer(\"english\", ignore_stopwords=True)"
   ]
  },
  {
   "cell_type": "code",
   "execution_count": 40,
   "metadata": {},
   "outputs": [],
   "source": [
    "class StemmedCountVectorizer(CountVectorizer):\n",
    "    def build_analyzer(self):\n",
    "        analyzer = super(StemmedCountVectorizer, self).build_analyzer()\n",
    "        return lambda doc: ([stemmer.stem(w) for w in analyzer(doc)])"
   ]
  },
  {
   "cell_type": "code",
   "execution_count": 41,
   "metadata": {},
   "outputs": [],
   "source": [
    "stemed_vec = StemmedCountVectorizer(min_df= 2,ngram_range=(1,2),tokenizer = LemmaTokenizer())"
   ]
  },
  {
   "cell_type": "code",
   "execution_count": 42,
   "metadata": {},
   "outputs": [],
   "source": [
    "clf = Pipeline([(\"vec\",stemed_vec),(\"tf-idf\",TfidfTransformer()),\n",
    "\t            (\"SVD\",TruncatedSVD(n_components=3000)),(\"svr\",SVR(C=10,gamma=1,verbose=1))])"
   ]
  },
  {
   "cell_type": "code",
   "execution_count": 43,
   "metadata": {},
   "outputs": [],
   "source": [
    "param_grid = {'svr__C': [0.001, 0.01, 0.1, 1, 10], 'svr__gamma': [0.001, 0.01, 0.1, 1],\n",
    "              'SVD__n_components':[1000,2000,3000,4000],'vec_ngram_range':[(1,1),(1,2),(1,3)],\n",
    "              'tfidf__use_idf': (True, False)}"
   ]
  },
  {
   "cell_type": "code",
   "execution_count": 44,
   "metadata": {},
   "outputs": [],
   "source": [
    "cv = KFold(shuffle=True)\n",
    "grid = GridSearchCV(clf, param_grid=param_grid, cv=cv, verbose=3)"
   ]
  },
  {
   "cell_type": "markdown",
   "metadata": {},
   "source": [
    "#### Fitting the model"
   ]
  },
  {
   "cell_type": "code",
   "execution_count": 45,
   "metadata": {},
   "outputs": [
    {
     "name": "stdout",
     "output_type": "stream",
     "text": [
      "[LibSVM]"
     ]
    },
    {
     "data": {
      "text/plain": [
       "Pipeline(memory=None,\n",
       "         steps=[('vec',\n",
       "                 StemmedCountVectorizer(analyzer='word', binary=False,\n",
       "                                        decode_error='strict',\n",
       "                                        dtype=<class 'numpy.int64'>,\n",
       "                                        encoding='utf-8', input='content',\n",
       "                                        lowercase=True, max_df=1.0,\n",
       "                                        max_features=None, min_df=2,\n",
       "                                        ngram_range=(1, 2), preprocessor=None,\n",
       "                                        stop_words=None, strip_accents=None,\n",
       "                                        token_pattern='(?u)\\\\b\\\\w\\\\w+\\\\b',\n",
       "                                        tokenizer=<__main__.Lem...\n",
       "                                        vocabulary=None)),\n",
       "                ('tf-idf',\n",
       "                 TfidfTransformer(norm='l2', smooth_idf=True,\n",
       "                                  sublinear_tf=False, use_idf=True)),\n",
       "                ('SVD',\n",
       "                 TruncatedSVD(algorithm='randomized', n_components=3000,\n",
       "                              n_iter=5, random_state=None, tol=0.0)),\n",
       "                ('svr',\n",
       "                 SVR(C=10, cache_size=200, coef0=0.0, degree=3, epsilon=0.1,\n",
       "                     gamma=1, kernel='rbf', max_iter=-1, shrinking=True,\n",
       "                     tol=0.001, verbose=1))],\n",
       "         verbose=False)"
      ]
     },
     "execution_count": 45,
     "metadata": {},
     "output_type": "execute_result"
    }
   ],
   "source": [
    "clf.fit(text_train, y_train)"
   ]
  },
  {
   "cell_type": "markdown",
   "metadata": {},
   "source": [
    "#### Prediction"
   ]
  },
  {
   "cell_type": "code",
   "execution_count": 58,
   "metadata": {},
   "outputs": [
    {
     "name": "stdout",
     "output_type": "stream",
     "text": [
      "[ 2.84364079e+00  9.78434056e-01  4.43471047e+00  6.97649766e-01\n",
      "  3.31274446e+00  2.42847162e+00  3.24918465e+00  3.28748261e+00\n",
      "  2.98666276e+00  2.33053900e+00  2.84311150e+00  2.51005411e+00\n",
      "  1.65681016e+00  3.57344332e+00  3.43825072e+00  4.07605843e+00\n",
      "  5.18579340e+00  1.36471819e+00  3.71366379e+00  5.99107228e+00\n",
      "  3.39579366e+00  2.74274731e+00  1.41222004e+00  2.37733360e+00\n",
      "  9.92087094e-01  3.21376903e-01  5.86357403e+00  2.57788098e+00\n",
      "  3.67609369e+00  1.22261796e+00  1.76515937e-02  5.70014943e+00\n",
      "  2.26873661e+00  2.20555373e-01  3.52014231e+00  7.06278592e-01\n",
      "  3.33240357e+00  2.99154556e+00  1.76723145e+00  3.61171912e-01\n",
      "  2.16152786e+00  5.20392841e+00 -3.95614648e-01  4.08618340e+00\n",
      "  1.43174809e-01  3.99312543e+00  7.95747211e-01  1.42417807e+00\n",
      "  4.72979481e+00  2.40872483e+00  2.99197202e+00  2.23627086e+00\n",
      "  8.69773293e-01  4.16364642e+00  2.74248944e+00  1.09614785e+00\n",
      "  4.14235813e+00  2.29078194e-01  3.96397980e+00  6.53228194e+00\n",
      " -5.84329588e-01  1.59100668e+00  9.80809771e-01  9.04283013e-01\n",
      "  1.28675300e+00  3.09999395e+00  3.81937853e-01  3.25504948e+00\n",
      "  2.11787801e+00  2.62770476e+00  1.42687924e+00  4.89881986e+00\n",
      "  3.63754046e+00  2.02093911e-01  3.59495124e+00  3.90012144e+00\n",
      "  1.51210426e+00  2.95072535e+00  3.77113941e+00 -1.95547888e-02\n",
      "  2.12447943e+00  5.26418782e+00  2.38875799e+00  5.12340213e+00\n",
      "  2.35035498e+00  4.40561720e+00  5.06113456e+00 -1.53271809e-01\n",
      "  1.17889931e+00  2.29662033e+00  4.03268008e+00  8.31147397e-02\n",
      "  4.89992526e+00  7.47284978e-01  1.06175500e+00  5.69869065e+00\n",
      "  3.79467391e+00  3.23389401e-01  9.04108886e-01  3.52733991e+00\n",
      "  4.42514769e+00  2.44725601e+00  6.19861324e+00  4.23455526e+00\n",
      "  1.66861419e+00  2.38906538e+00  9.69358960e-01  5.06782096e+00\n",
      "  5.62634075e+00  1.44043185e+00  2.64400148e+00 -2.55394840e-01\n",
      "  3.52720609e+00  2.31619534e+00  4.89979205e+00  2.89308982e+00\n",
      "  2.39908652e+00  2.03691348e+00  2.25778931e+00  3.05701598e+00\n",
      "  2.89983388e+00  1.42566217e+00  3.09241118e+00  5.96735646e+00\n",
      "  5.94697531e+00  3.82794226e-01  1.72967853e+00  1.83078661e+00\n",
      "  4.72322603e+00  3.94253551e+00  1.46494708e+00  2.79470216e-01\n",
      "  3.94990247e+00  1.67848182e+00  1.67717359e+00  1.09491878e+00\n",
      "  1.44986087e+00  4.25890860e+00  3.15263481e+00  1.12857603e+00\n",
      "  3.10004826e+00  3.12457811e+00  1.62072322e+00  2.62382528e+00\n",
      "  2.64856117e+00  4.02068927e+00 -2.97711115e-01  3.72409898e+00\n",
      "  1.29841777e+00  3.45997116e+00  1.11438417e+00  1.74036181e+00\n",
      "  4.00163458e+00  8.25338123e-01  2.93291503e+00  2.90512761e+00\n",
      "  1.69374938e+00  1.52078466e+00  5.76601282e+00  2.74432782e+00\n",
      "  4.08940831e+00  6.27229025e-01  2.89162908e+00  1.07949172e+00\n",
      "  2.88650791e+00  2.66332264e+00  1.49512685e+00  1.43603768e+00\n",
      "  3.79396758e+00  4.22311171e+00  1.84101008e+00  1.95180140e+00\n",
      "  3.49406610e+00  4.07516152e-01  3.25149822e+00  3.90008283e+00\n",
      "  7.04980631e-01  4.66238525e+00  6.85041095e-01  1.14473454e+00\n",
      "  1.64619364e+00  2.89910211e+00  3.97201616e+00  3.64266787e-01\n",
      "  3.60144418e+00  3.76322087e+00  7.81405443e-02  1.94344726e+00\n",
      "  2.45427611e+00  4.33461959e+00  1.44074830e-01  2.12797033e+00\n",
      "  2.79852732e+00  7.65668071e-01 -1.05298941e+00  2.48689885e+00\n",
      "  3.58766223e+00  3.36408972e+00  4.37235629e+00  3.33489273e+00\n",
      "  4.80263426e-01  2.39739297e-01  2.83634737e+00  2.93543640e+00\n",
      "  2.28255604e+00  6.83377293e+00  6.66713872e-02  1.33602605e+00\n",
      "  2.08834043e+00  1.62008772e+00  1.31518556e+00  6.01537062e+00\n",
      "  2.17312894e+00  1.72846154e+00  4.16640491e+00  3.71095676e+00\n",
      "  3.50179424e+00  4.10088135e+00  3.95221998e+00  2.50436419e+00\n",
      "  5.92353905e+00  1.24406993e+00  3.47174806e+00  2.02182075e+00\n",
      "  2.71598415e+00  4.03144724e+00  1.89349754e+00  1.78344950e+00\n",
      "  1.60099868e+00  4.35612111e+00  5.92136621e-01  2.54085208e+00\n",
      "  3.33651140e+00  3.37274030e+00  3.56085853e+00  1.86445967e+00\n",
      " -2.21786260e-01  3.19554355e+00  4.48057957e+00  3.41687449e+00\n",
      "  4.64420999e+00  3.84094140e+00  2.24161005e+00  2.53271004e+00\n",
      "  2.19949865e+00  4.41552160e+00  4.33325921e+00  1.53743405e+00\n",
      "  3.38996387e+00  1.67277284e+00  5.33263066e+00  3.89791767e+00\n",
      "  2.92214571e+00  1.61530008e+00  8.63891882e-01  2.10041473e+00\n",
      "  4.77275869e+00  8.93432569e-01  2.78454201e+00  2.48613799e+00\n",
      "  2.05953568e+00  3.27760588e+00  3.68419817e+00  2.44526675e+00\n",
      "  2.04044301e+00  2.47440918e+00  1.17960423e+00  4.27733010e+00\n",
      "  1.11601735e+00  1.11721700e+00  5.59682107e+00  4.04211242e+00\n",
      "  1.61790070e+00  1.51474866e+00  6.15504959e-01  4.99787378e+00\n",
      "  1.13898595e+00  4.60161280e-01  8.36574426e-01  4.68871733e+00\n",
      "  4.93060697e+00  5.66976668e-01  1.57450936e+00  4.56875966e-01\n",
      "  2.55144532e+00  1.53983745e+00  3.33125731e+00  4.87837029e-02\n",
      "  1.17555574e+00  5.33165387e+00  4.25256642e+00  1.86568060e+00\n",
      "  1.67510965e+00  1.40442055e-01  1.33208641e+00  3.72459203e+00\n",
      "  1.74431856e+00  1.63985393e+00  3.41111039e+00  1.74028059e+00\n",
      "  1.76738971e+00  3.72728931e+00  4.20305066e+00  7.16162149e-01\n",
      " -2.95960336e-01 -3.27631149e-01  5.81569015e+00  3.80288864e+00\n",
      "  1.46642058e+00  2.75950032e+00  4.68909976e+00  4.03631854e-01\n",
      "  4.56340469e-01  1.16208579e+00  3.04890855e+00  5.37481134e+00\n",
      "  2.65956640e+00  2.72360110e+00  1.29670484e+00  1.42493930e+00\n",
      "  1.64333195e+00  4.43836738e+00  2.50495342e+00  4.66846459e+00\n",
      " -9.22680284e-01  1.50968074e+00  3.78011477e+00  1.55862250e+00\n",
      "  8.29745035e-01  2.37783566e+00  4.41090784e+00  1.98497216e+00\n",
      "  5.52207882e-01  3.73642816e+00  3.63581803e+00  2.44250908e+00\n",
      "  2.15443496e+00  3.09373612e+00  2.90889017e+00  5.97399167e+00\n",
      "  4.73653134e+00  4.00767081e+00  9.70851963e-01  2.83481186e+00\n",
      "  4.36334156e+00  7.76035811e-01  3.46593800e+00  1.90946394e+00\n",
      "  5.53370208e+00  4.78626807e+00  8.52398665e-01  3.30357873e+00\n",
      "  3.91380449e+00  4.20871849e+00  3.61141507e+00  2.13384786e+00\n",
      "  1.80075439e+00  1.85200112e+00  4.93918013e+00  4.41653018e+00\n",
      "  3.89986768e+00 -3.57599994e-01  4.09876635e+00  2.04896025e+00\n",
      "  2.83913775e+00  4.13767946e-01  6.17061877e-01  1.13467304e+00\n",
      " -9.85317624e-01  3.02744155e+00  2.21222334e+00  3.78279732e+00\n",
      "  2.10037907e+00  3.84527247e+00  1.08937924e+00  2.75556341e+00\n",
      "  6.11850647e+00  2.58557818e+00  3.64398575e+00  1.83169922e+00\n",
      "  1.21263451e+00  3.16120196e+00  2.97904375e+00  5.49717950e-01\n",
      "  2.65898273e+00  9.59405158e-01  3.38024771e+00  2.47094520e+00\n",
      "  2.52537140e+00  2.20961625e+00  1.17469948e+00  3.02009918e+00\n",
      "  4.24701829e+00  1.84369927e+00  2.66069548e+00  4.90004350e+00\n",
      "  3.79805903e+00  4.25945716e+00  1.85144047e+00 -4.94278593e-02\n",
      "  4.40693308e+00  1.83470552e+00  2.17403800e+00  5.33763572e+00\n",
      "  3.07774220e+00  3.02019063e+00  4.48833713e+00  1.31883317e+00\n",
      "  4.58834642e+00  4.28938378e+00  2.32132727e+00  1.98453712e+00\n",
      "  4.55701434e+00  2.90012375e+00  8.68548644e-01  2.04143914e+00\n",
      "  5.94931551e-01  1.90224085e-01  6.81002867e-01  5.18831181e+00\n",
      "  5.53059679e+00  9.60783950e-01  1.17558412e+00  4.30678287e+00\n",
      "  1.52116372e+00  4.36860857e+00  2.62071038e+00  3.14606707e+00\n",
      " -9.91766432e-01  1.02681611e+00  4.53402671e+00  1.17121217e-01\n",
      "  3.88783416e+00  3.35296119e+00 -7.00919884e-01  2.45914159e+00\n",
      "  1.99436878e+00  3.72420252e+00  2.52325844e+00  4.62316295e+00\n",
      "  2.70354801e+00  4.90017110e+00  5.47270864e+00  1.44036002e-01\n",
      "  3.94693472e+00  3.32728004e+00  4.47278320e+00  2.81322505e+00\n",
      "  1.04576578e+00  1.73945450e+00  4.45053516e+00  4.36253298e+00\n",
      "  1.29282552e+00  3.23946404e+00  3.80311359e+00  3.98251480e-01\n",
      "  1.25668582e+00  1.88306220e-01  5.62230036e+00  3.37474717e+00\n",
      "  2.32790109e+00  2.09991803e+00  4.39911102e+00  4.03277937e+00\n",
      " -2.54024125e-01  3.47852737e+00  7.47795937e-01  1.15587943e+00\n",
      "  2.46245326e+00  1.37646501e+00  1.91987017e+00  5.80655592e-01\n",
      "  2.90007081e+00  2.37352999e+00  1.03557885e+00  1.03975632e+00\n",
      "  5.40430081e+00  8.24737674e-01  1.43464730e+00  1.63397434e+00\n",
      "  5.16116127e+00 -2.78955499e-01  5.59182548e+00  1.57743642e+00\n",
      "  5.30098281e-01  4.45793026e-01  2.18912840e+00  2.56739129e+00\n",
      "  4.57940777e+00  1.90623302e+00  1.43499496e+00  3.05349673e+00\n",
      "  2.18320849e+00  4.95009725e+00  2.70435300e+00  3.41450672e+00\n",
      "  3.38205941e+00  3.60615051e+00  1.96906820e+00  4.73217690e-01\n",
      "  4.70686525e+00  3.24671795e+00  1.04925278e+00  3.31705836e+00\n",
      "  1.56412176e+00  4.16502685e+00  4.30671172e+00  4.84208897e+00\n",
      "  3.43997704e+00  3.49552125e+00  4.44568225e+00  7.13303525e-01\n",
      "  3.96838328e+00  2.99576433e+00  1.08885090e-01  4.06796893e+00\n",
      "  3.64399536e+00  2.82176377e+00  7.82795461e-01  1.73452113e+00\n",
      "  3.40415316e+00  2.73747185e+00  3.61655089e+00  5.57926458e+00\n",
      "  3.61567123e+00  4.20192213e+00  1.09057280e+00  5.18565943e+00\n",
      "  1.32099192e+00 -6.02838595e-01  4.89990746e+00  4.42697755e+00\n",
      "  2.71106013e+00  5.66198414e+00  1.83752008e+00  1.97840453e+00\n",
      "  2.10538862e+00  9.88151692e-01  5.00025450e+00  5.83068046e+00\n",
      "  2.13469845e+00  3.85798427e+00  4.58123301e+00  5.19689618e+00\n",
      " -3.62324087e-01  1.81705213e+00  2.75243083e+00  3.73629616e+00\n",
      "  2.24966611e+00  3.89986627e+00  1.72696175e+00  3.12091775e+00\n",
      "  1.02574239e+00  1.81014631e+00  2.14754958e+00  2.08700902e+00\n",
      "  1.54609020e+00  1.81694175e+00  3.47411599e+00  4.36310028e+00\n",
      "  4.63352138e+00  2.08420887e+00 -4.51526588e-01  1.29979481e+00\n",
      "  2.79657516e+00  4.94097536e+00  1.41945294e+00  2.64175596e-01\n",
      " -2.43957751e-01  6.98793246e-01  2.08718145e+00  3.41084963e+00\n",
      "  1.57911363e+00  2.35677184e+00  1.44289820e+00  3.64634043e+00\n",
      " -1.55148504e-01  2.42027893e+00  1.56838012e-01  2.48159939e+00\n",
      "  9.64045143e-01  3.99870683e+00  2.98316596e+00  1.83157133e+00\n",
      "  1.07474084e+00  1.69677705e+00  3.04185905e-01  4.87611419e+00\n",
      "  2.69803374e+00  2.54543231e+00  3.31068669e+00  2.35166025e+00\n",
      "  2.17781374e+00  1.27911552e+00  4.58018962e+00  2.64674882e+00\n",
      "  3.36853223e+00  3.26455294e+00  2.77038930e+00  3.03100925e+00\n",
      "  2.89311211e+00  1.79169929e+00  2.09374135e+00  9.34843105e-01\n",
      "  5.18582343e+00  7.81783903e-01  1.19118339e+00  3.01726430e+00\n",
      "  1.59395488e+00  1.79150185e+00  2.31715592e+00 -3.73520451e-01\n",
      "  1.33429693e+00  1.01131773e+00  2.75023384e+00  3.26234964e+00\n",
      "  2.91836854e+00  3.38805125e+00  3.50192482e+00  3.73953502e-01\n",
      "  1.86019379e+00  4.46917169e+00  4.14764845e+00  3.97726265e+00\n",
      "  3.83325885e+00  1.43693303e+00  4.39255971e+00  2.35741460e+00\n",
      "  7.17366446e+00  4.52139640e+00  1.07286825e+00  4.24713039e+00\n",
      "  8.74820149e-01  3.05088947e+00  3.72039565e+00  8.17900243e-01\n",
      "  3.87705155e+00 -5.72937125e-01  1.07161060e+00  1.02986320e+00\n",
      "  2.01510765e+00  1.90906608e+00  2.21564441e+00  3.02117392e+00\n",
      "  2.79583920e+00  1.31899925e+00 -1.84114836e-01  2.73080781e+00\n",
      "  9.11206551e-01  1.44840588e+00  4.24943302e+00  5.85486913e-01\n",
      "  9.03409775e-01  3.88647866e+00  2.99043562e+00  1.96642140e+00\n",
      " -4.85584004e-01  3.83815402e+00  3.41945806e+00  1.93570049e+00\n",
      "  3.90012705e+00  2.14516245e+00  4.11248475e+00  1.60979653e+00\n",
      "  4.10123503e+00  4.13984981e+00  5.65146174e-01  7.39244836e-01\n",
      "  1.36079261e+00 -1.85752623e-01  7.38063399e-01  4.45339486e+00\n",
      "  7.80149482e-05  2.04809941e+00  2.21007931e+00  5.06954964e+00\n",
      "  4.96497013e+00  5.51068230e+00  3.32824000e+00  1.24188128e+00\n",
      "  2.68493865e+00  4.45340566e+00  3.20227488e+00  2.22622404e+00\n",
      "  4.98395785e-01  2.48573536e+00  1.23988688e+00  4.08839183e+00\n",
      "  1.27557051e+00 -1.32417892e+00  7.78885644e-01  3.85235425e+00\n",
      "  1.86796483e+00 -7.13094622e-01  2.50786995e+00  3.75124485e+00\n",
      "  2.89714899e+00  1.98437728e+00  2.75267622e+00  3.28013694e+00\n",
      "  2.62317377e+00  1.74458953e+00  2.07491063e+00  1.61108545e+00\n",
      "  1.41051410e+00  3.79097948e+00 -4.90567346e-01  3.09957311e+00\n",
      "  1.71998327e+00  4.66809047e+00  4.81559974e+00  2.56770286e+00\n",
      "  4.66338826e+00  1.16756075e+00  1.37905123e+00 -2.51699901e-01\n",
      "  1.76206465e+00 -1.16802901e+00  3.87128505e+00  1.92320303e+00\n",
      " -6.27291265e-01  4.48649671e+00  9.83300281e-01  1.57278139e+00\n",
      "  1.97975733e+00  2.49552899e+00  3.90271453e+00  3.54837338e+00\n",
      "  3.91388877e+00  4.29487354e+00  2.39421584e+00  7.89983531e-01\n",
      "  1.82718623e+00  1.14396913e+00  4.78355072e+00  9.10344318e-01\n",
      "  3.90471147e-01  1.61014925e+00  1.34453665e+00  1.02415487e+00\n",
      "  1.49364859e+00  4.39063132e+00  1.93328831e-01  2.59513348e+00\n",
      "  6.75591598e-01  8.26338071e-01  1.98141772e+00  3.24768734e+00\n",
      "  2.39076530e+00  3.15357001e+00  5.33075663e+00  4.01239042e-01\n",
      "  1.68211348e+00  4.11050880e+00  2.18298959e+00 -1.60302470e-01\n",
      "  4.05119817e+00  2.69852190e+00  1.26891121e+00  8.39364535e-01\n",
      "  1.66787971e+00  2.65248012e+00  9.86500643e-01  6.55950234e-01\n",
      "  2.33007961e+00  3.72317413e+00  2.96237201e+00  3.01866521e+00\n",
      "  1.59135179e+00  3.83977224e+00  1.17005125e-01  2.16249640e+00\n",
      "  1.49217636e+00  4.97907048e+00  3.53152406e+00  1.26965293e+00\n",
      "  1.53922124e+00 -3.57403578e-01 -9.81674856e-01  2.40226453e+00\n",
      "  1.13948950e+00]\n"
     ]
    }
   ],
   "source": [
    "y_pred = clf.predict(text_test)\n",
    "#print(y_pred)"
   ]
  },
  {
   "cell_type": "code",
   "execution_count": 59,
   "metadata": {},
   "outputs": [],
   "source": [
    "#Adjust the value to 1~5\n",
    "for i in range(len(y_pred)):\n",
    "\tif (y_pred[i]>5) : y_pred[i]=5\n",
    "\tif (y_pred[i]<1) : y_pred[i]=1"
   ]
  },
  {
   "cell_type": "code",
   "execution_count": 67,
   "metadata": {},
   "outputs": [
    {
     "name": "stdout",
     "output_type": "stream",
     "text": [
      "2 3.0\n",
      "1 1.0\n",
      "5 4.0\n",
      "2 1.0\n",
      "4 3.0\n",
      "3 2.0\n",
      "5 3.0\n",
      "5 3.0\n",
      "4 3.0\n",
      "2 2.0\n",
      "5 3.0\n",
      "5 3.0\n",
      "1 2.0\n",
      "5 4.0\n",
      "5 3.0\n",
      "3 4.0\n",
      "4 5.0\n",
      "3 1.0\n",
      "0.4148527528809219\n"
     ]
    }
   ],
   "source": [
    "y_testreal = df_test[\"score\"].values\n",
    "acc=0\n",
    "for i in range(len(y_testreal)):\n",
    "    if y_test[i]== math.ceil(y_pred[i]):\n",
    "        acc=acc+1\n",
    "    if i <18:\n",
    "        print(y_test[i], round(y_pred[i]))\n",
    "acc = acc/len(y_test)\n",
    "print(acc)"
   ]
  },
  {
   "cell_type": "code",
   "execution_count": 68,
   "metadata": {},
   "outputs": [],
   "source": [
    "sample = \"This app has so many updates constantly and you cant even figure out how to make the camera on this app work!! And no it's not my phone, when I go into my camera everything is crystal clear but the minute I go on your app to take a picture it's nothing but blur even when you click on what you want it to focus on... Fix the app with your next update instead of making it worst\""
   ]
  },
  {
   "cell_type": "code",
   "execution_count": 69,
   "metadata": {},
   "outputs": [
    {
     "data": {
      "text/plain": [
       "0.9583481638745277"
      ]
     },
     "execution_count": 69,
     "metadata": {},
     "output_type": "execute_result"
    }
   ],
   "source": [
    " (clf.predict([sample]))[0]"
   ]
  },
  {
   "cell_type": "code",
   "execution_count": null,
   "metadata": {},
   "outputs": [],
   "source": []
  }
 ],
 "metadata": {
  "kernelspec": {
   "display_name": "Python 3",
   "language": "python",
   "name": "python3"
  },
  "language_info": {
   "codemirror_mode": {
    "name": "ipython",
    "version": 3
   },
   "file_extension": ".py",
   "mimetype": "text/x-python",
   "name": "python",
   "nbconvert_exporter": "python",
   "pygments_lexer": "ipython3",
   "version": "3.7.4"
  }
 },
 "nbformat": 4,
 "nbformat_minor": 4
}
